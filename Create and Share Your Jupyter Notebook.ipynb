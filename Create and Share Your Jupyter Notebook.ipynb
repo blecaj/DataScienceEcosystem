{
    "cells": [
        {
            "metadata": {},
            "cell_type": "markdown",
            "source": "# Data Science Tools and Ecosystem\n"
        },
        {
            "metadata": {
                "collapsed": true
            },
            "cell_type": "markdown",
            "source": "### Introduction: \n\n---\n\nIn this notebook, Data Science Tools and Ecosystem are summarized.\n\n\n"
        },
        {
            "metadata": {},
            "cell_type": "markdown",
            "source": "<b> Objectives <b/>\n\nIn this notebook, we:\n\n- List popular languages for Data Science\n- Learn about data science tools such as Jupyter Notebook and Tableau\n- Practice arithmetic expressions with Python\n- Convert minutes to hours using Python"
        },
        {
            "metadata": {},
            "cell_type": "markdown",
            "source": "### Data Science Languages\n\nSome of the popular languages that Data Scientists use are:\n\n- Python\n- R\n- Julia\n\n\n"
        },
        {
            "metadata": {},
            "cell_type": "markdown",
            "source": "### Data Science Libraries\n\nSome of the commonly used libraries used by Data Scientists include:\n\n- NumPy\n- Pandas\n- Scikit-Learn\n"
        },
        {
            "metadata": {},
            "cell_type": "markdown",
            "source": "### Data Science Tools\n\n| Tool Name        | Description           | \n| ----------- |:-----------:| \n| Jupyter Notebook     | Interactive computing environment | \n| Tableau      | Data visualization       | \n| Apache Spark | Distributed computing system for big data      |\n"
        },
        {
            "metadata": {},
            "cell_type": "markdown",
            "source": "### Arithmetic Expression Examples\n\nBelow are a few examples of evaluating arithmetic expressions in Python\n"
        },
        {
            "metadata": {},
            "cell_type": "code",
            "source": "# This a simple arithmetic expression to mutiply then add integers\n\nresult = (3*4)+5\n\nprint(result)\n\n",
            "execution_count": 16,
            "outputs": [
                {
                    "output_type": "stream",
                    "text": "17\n",
                    "name": "stdout"
                }
            ]
        },
        {
            "metadata": {},
            "cell_type": "code",
            "source": "# This will convert 200 minutes to hours by diving by 60\nminutes = 200\nhours = minutes / 60\nprint(hours)",
            "execution_count": 12,
            "outputs": [
                {
                    "output_type": "stream",
                    "text": "3.3333333333333335\n",
                    "name": "stdout"
                }
            ]
        },
        {
            "metadata": {},
            "cell_type": "markdown",
            "source": "## Aurthor:\n Burim Lecaj\n"
        }
    ],
    "metadata": {
        "kernelspec": {
            "name": "python3",
            "display_name": "Python 3.10",
            "language": "python"
        },
        "language_info": {
            "name": "python",
            "version": "3.10.9",
            "mimetype": "text/x-python",
            "codemirror_mode": {
                "name": "ipython",
                "version": 3
            },
            "pygments_lexer": "ipython3",
            "nbconvert_exporter": "python",
            "file_extension": ".py"
        }
    },
    "nbformat": 4,
    "nbformat_minor": 1
}